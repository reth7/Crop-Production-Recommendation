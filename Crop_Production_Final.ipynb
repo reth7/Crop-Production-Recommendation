{
  "cells": [
    {
      "cell_type": "code",
      "execution_count": 1,
      "metadata": {
        "id": "-B53SoUIbsxB"
      },
      "outputs": [],
      "source": [
        "import pandas as pd\n",
        "import numpy as np\n",
        "from sklearn.preprocessing import StandardScaler, OneHotEncoder\n",
        "from sklearn.compose import make_column_transformer\n",
        "from sklearn.model_selection import GroupShuffleSplit\n",
        "from sklearn.model_selection import train_test_split\n",
        "from sklearn.metrics import mean_absolute_error\n",
        "from tensorflow import keras\n",
        "from tensorflow.keras import layers,callbacks\n",
        "from tensorflow.keras import callbacks\n",
        "from tensorflow.keras.metrics import categorical_crossentropy"
      ]
    },
    {
      "cell_type": "code",
      "execution_count": 2,
      "metadata": {
        "id": "sC4959J3bz8t"
      },
      "outputs": [],
      "source": [
        "crops=pd.read_csv('./Crop_recommendation.csv')\n",
        "df= crops.copy()"
      ]
    },
    {
      "cell_type": "code",
      "execution_count": 3,
      "metadata": {
        "colab": {
          "base_uri": "https://localhost:8080/",
          "height": 206
        },
        "id": "x1Y3bEfU5L_L",
        "outputId": "661a3578-0f83-4e18-fbce-ef54f1cefd9b"
      },
      "outputs": [
        {
          "data": {
            "text/html": [
              "<div>\n",
              "<style scoped>\n",
              "    .dataframe tbody tr th:only-of-type {\n",
              "        vertical-align: middle;\n",
              "    }\n",
              "\n",
              "    .dataframe tbody tr th {\n",
              "        vertical-align: top;\n",
              "    }\n",
              "\n",
              "    .dataframe thead th {\n",
              "        text-align: right;\n",
              "    }\n",
              "</style>\n",
              "<table border=\"1\" class=\"dataframe\">\n",
              "  <thead>\n",
              "    <tr style=\"text-align: right;\">\n",
              "      <th></th>\n",
              "      <th>N</th>\n",
              "      <th>P</th>\n",
              "      <th>K</th>\n",
              "      <th>temperature</th>\n",
              "      <th>humidity</th>\n",
              "      <th>ph</th>\n",
              "      <th>rainfall</th>\n",
              "      <th>label</th>\n",
              "    </tr>\n",
              "  </thead>\n",
              "  <tbody>\n",
              "    <tr>\n",
              "      <th>0</th>\n",
              "      <td>90</td>\n",
              "      <td>42</td>\n",
              "      <td>43</td>\n",
              "      <td>20.879744</td>\n",
              "      <td>82.002744</td>\n",
              "      <td>6.502985</td>\n",
              "      <td>202.935536</td>\n",
              "      <td>rice</td>\n",
              "    </tr>\n",
              "    <tr>\n",
              "      <th>1</th>\n",
              "      <td>85</td>\n",
              "      <td>58</td>\n",
              "      <td>41</td>\n",
              "      <td>21.770462</td>\n",
              "      <td>80.319644</td>\n",
              "      <td>7.038096</td>\n",
              "      <td>226.655537</td>\n",
              "      <td>rice</td>\n",
              "    </tr>\n",
              "    <tr>\n",
              "      <th>2</th>\n",
              "      <td>60</td>\n",
              "      <td>55</td>\n",
              "      <td>44</td>\n",
              "      <td>23.004459</td>\n",
              "      <td>82.320763</td>\n",
              "      <td>7.840207</td>\n",
              "      <td>263.964248</td>\n",
              "      <td>rice</td>\n",
              "    </tr>\n",
              "    <tr>\n",
              "      <th>3</th>\n",
              "      <td>74</td>\n",
              "      <td>35</td>\n",
              "      <td>40</td>\n",
              "      <td>26.491096</td>\n",
              "      <td>80.158363</td>\n",
              "      <td>6.980401</td>\n",
              "      <td>242.864034</td>\n",
              "      <td>rice</td>\n",
              "    </tr>\n",
              "    <tr>\n",
              "      <th>4</th>\n",
              "      <td>78</td>\n",
              "      <td>42</td>\n",
              "      <td>42</td>\n",
              "      <td>20.130175</td>\n",
              "      <td>81.604873</td>\n",
              "      <td>7.628473</td>\n",
              "      <td>262.717340</td>\n",
              "      <td>rice</td>\n",
              "    </tr>\n",
              "  </tbody>\n",
              "</table>\n",
              "</div>"
            ],
            "text/plain": [
              "    N   P   K  temperature   humidity        ph    rainfall label\n",
              "0  90  42  43    20.879744  82.002744  6.502985  202.935536  rice\n",
              "1  85  58  41    21.770462  80.319644  7.038096  226.655537  rice\n",
              "2  60  55  44    23.004459  82.320763  7.840207  263.964248  rice\n",
              "3  74  35  40    26.491096  80.158363  6.980401  242.864034  rice\n",
              "4  78  42  42    20.130175  81.604873  7.628473  262.717340  rice"
            ]
          },
          "execution_count": 3,
          "metadata": {},
          "output_type": "execute_result"
        }
      ],
      "source": [
        "crops.head()"
      ]
    },
    {
      "cell_type": "code",
      "execution_count": 4,
      "metadata": {
        "id": "SISw0vWIb204"
      },
      "outputs": [],
      "source": [
        "X= df.drop('label',axis=1)\n",
        "y=df['label']\n",
        "\n",
        "label_convertor={\"rice\":0,\"maize\":1,\"chickpea\":2,\"kidneybeans\":3,\"pigeonpeas\":4,\"mothbeans\":5,\"mungbean\":6,\"blackgram\":7,\n",
        "                 \"lentil\":8,\"pomegranate\":9,\"banana\":10, \"mango\":11,\"grapes\":12,\"watermelon\":13,\"muskmelon\":14,\"apple\":15,\n",
        "                 \"orange\":16,\"papaya\":17,\"coconut\":18,\"cotton\":19,\"jute\":20,\"coffee\":21}\n",
        "\n",
        "new_y = [ele if ele not in label_convertor else label_convertor[ele] for ele in y]\n",
        "new_y=np.array(new_y)"
      ]
    },
    {
      "cell_type": "code",
      "execution_count": null,
      "metadata": {},
      "outputs": [],
      "source": []
    },
    {
      "cell_type": "code",
      "execution_count": 5,
      "metadata": {
        "id": "jUoatPHPb6m-"
      },
      "outputs": [],
      "source": [
        "X_train, X_rem, y_train, y_rem = train_test_split(X, new_y, train_size=0.8, shuffle=True, random_state = 6)\n",
        "X_test, X_val, y_test, y_val = train_test_split(X_rem, y_rem, test_size=0.5, shuffle=True,random_state= 4)\n",
        "\n",
        "input_shape = [X_train.shape[1]]"
      ]
    },
    {
      "cell_type": "code",
      "execution_count": 6,
      "metadata": {
        "colab": {
          "base_uri": "https://localhost:8080/",
          "height": 206
        },
        "id": "UZOEN-YacJ-b",
        "outputId": "a69f1b0a-eabe-4208-bbcb-b50f8b8707b4"
      },
      "outputs": [
        {
          "data": {
            "text/html": [
              "<div>\n",
              "<style scoped>\n",
              "    .dataframe tbody tr th:only-of-type {\n",
              "        vertical-align: middle;\n",
              "    }\n",
              "\n",
              "    .dataframe tbody tr th {\n",
              "        vertical-align: top;\n",
              "    }\n",
              "\n",
              "    .dataframe thead th {\n",
              "        text-align: right;\n",
              "    }\n",
              "</style>\n",
              "<table border=\"1\" class=\"dataframe\">\n",
              "  <thead>\n",
              "    <tr style=\"text-align: right;\">\n",
              "      <th></th>\n",
              "      <th>N</th>\n",
              "      <th>P</th>\n",
              "      <th>K</th>\n",
              "      <th>temperature</th>\n",
              "      <th>humidity</th>\n",
              "      <th>ph</th>\n",
              "      <th>rainfall</th>\n",
              "    </tr>\n",
              "  </thead>\n",
              "  <tbody>\n",
              "    <tr>\n",
              "      <th>2071</th>\n",
              "      <td>99</td>\n",
              "      <td>57</td>\n",
              "      <td>38</td>\n",
              "      <td>24.806250</td>\n",
              "      <td>82.092817</td>\n",
              "      <td>6.356296</td>\n",
              "      <td>156.361617</td>\n",
              "    </tr>\n",
              "    <tr>\n",
              "      <th>140</th>\n",
              "      <td>99</td>\n",
              "      <td>56</td>\n",
              "      <td>17</td>\n",
              "      <td>24.108592</td>\n",
              "      <td>73.131123</td>\n",
              "      <td>6.234330</td>\n",
              "      <td>71.075622</td>\n",
              "    </tr>\n",
              "    <tr>\n",
              "      <th>50</th>\n",
              "      <td>60</td>\n",
              "      <td>36</td>\n",
              "      <td>43</td>\n",
              "      <td>23.431219</td>\n",
              "      <td>83.063101</td>\n",
              "      <td>5.286204</td>\n",
              "      <td>219.904835</td>\n",
              "    </tr>\n",
              "    <tr>\n",
              "      <th>216</th>\n",
              "      <td>50</td>\n",
              "      <td>56</td>\n",
              "      <td>76</td>\n",
              "      <td>20.995022</td>\n",
              "      <td>19.860130</td>\n",
              "      <td>7.966605</td>\n",
              "      <td>73.507340</td>\n",
              "    </tr>\n",
              "    <tr>\n",
              "      <th>1892</th>\n",
              "      <td>3</td>\n",
              "      <td>9</td>\n",
              "      <td>35</td>\n",
              "      <td>26.916419</td>\n",
              "      <td>99.846716</td>\n",
              "      <td>6.318553</td>\n",
              "      <td>225.632366</td>\n",
              "    </tr>\n",
              "  </tbody>\n",
              "</table>\n",
              "</div>"
            ],
            "text/plain": [
              "       N   P   K  temperature   humidity        ph    rainfall\n",
              "2071  99  57  38    24.806250  82.092817  6.356296  156.361617\n",
              "140   99  56  17    24.108592  73.131123  6.234330   71.075622\n",
              "50    60  36  43    23.431219  83.063101  5.286204  219.904835\n",
              "216   50  56  76    20.995022  19.860130  7.966605   73.507340\n",
              "1892   3   9  35    26.916419  99.846716  6.318553  225.632366"
            ]
          },
          "execution_count": 6,
          "metadata": {},
          "output_type": "execute_result"
        }
      ],
      "source": [
        "X_train.head()"
      ]
    },
    {
      "cell_type": "code",
      "execution_count": 7,
      "metadata": {
        "id": "6hgt35o-cNdZ"
      },
      "outputs": [],
      "source": [
        "early_stopping = callbacks.EarlyStopping(\n",
        "    min_delta=0.001, # minimium amount of change to count as an improvement\n",
        "    patience=20, # how many epochs to wait before stopping\n",
        "    restore_best_weights=True,\n",
        ")"
      ]
    },
    {
      "cell_type": "code",
      "execution_count": 8,
      "metadata": {
        "id": "abogyFTucUK0"
      },
      "outputs": [],
      "source": [
        "model = keras.Sequential([\n",
        "    layers.BatchNormalization(input_shape=input_shape),\n",
        "    layers.Dense(1024, activation='relu'),\n",
        "    layers.Dropout(0.3),\n",
        "    layers.BatchNormalization(),\n",
        "    layers.Dense(1024, activation='relu'),\n",
        "    layers.Dropout(0.3),\n",
        "    layers.BatchNormalization(),    \n",
        "    layers.Dense(1024, activation='relu'),\n",
        "    layers.Dropout(0.3),\n",
        "    layers.BatchNormalization(),\n",
        "    layers.Dense(1),\n",
        "])"
      ]
    },
    {
      "cell_type": "code",
      "execution_count": 9,
      "metadata": {
        "colab": {
          "base_uri": "https://localhost:8080/"
        },
        "id": "OSudOMBYcVRv",
        "outputId": "953b3509-afc1-4349-c226-061787ef8210"
      },
      "outputs": [
        {
          "name": "stdout",
          "output_type": "stream",
          "text": [
            "Model: \"sequential\"\n",
            "_________________________________________________________________\n",
            " Layer (type)                Output Shape              Param #   \n",
            "=================================================================\n",
            " batch_normalization (BatchN  (None, 7)                28        \n",
            " ormalization)                                                   \n",
            "                                                                 \n",
            " dense (Dense)               (None, 1024)              8192      \n",
            "                                                                 \n",
            " dropout (Dropout)           (None, 1024)              0         \n",
            "                                                                 \n",
            " batch_normalization_1 (Batc  (None, 1024)             4096      \n",
            " hNormalization)                                                 \n",
            "                                                                 \n",
            " dense_1 (Dense)             (None, 1024)              1049600   \n",
            "                                                                 \n",
            " dropout_1 (Dropout)         (None, 1024)              0         \n",
            "                                                                 \n",
            " batch_normalization_2 (Batc  (None, 1024)             4096      \n",
            " hNormalization)                                                 \n",
            "                                                                 \n",
            " dense_2 (Dense)             (None, 1024)              1049600   \n",
            "                                                                 \n",
            " dropout_2 (Dropout)         (None, 1024)              0         \n",
            "                                                                 \n",
            " batch_normalization_3 (Batc  (None, 1024)             4096      \n",
            " hNormalization)                                                 \n",
            "                                                                 \n",
            " dense_3 (Dense)             (None, 1)                 1025      \n",
            "                                                                 \n",
            "=================================================================\n",
            "Total params: 2,120,733\n",
            "Trainable params: 2,114,575\n",
            "Non-trainable params: 6,158\n",
            "_________________________________________________________________\n"
          ]
        }
      ],
      "source": [
        "model.compile(\n",
        "    optimizer='Adam', # SGD is more sensitive to differences of scale\n",
        "    loss='categorical_crossentropy',metrics=['accuracy']\n",
        ")\n",
        "model.summary()"
      ]
    },
    {
      "cell_type": "code",
      "execution_count": 10,
      "metadata": {
        "colab": {
          "base_uri": "https://localhost:8080/",
          "height": 1000
        },
        "id": "8_PBgVJOcX0E",
        "outputId": "a3af4dec-fc5d-412d-f765-632950a85d09"
      },
      "outputs": [
        {
          "name": "stdout",
          "output_type": "stream",
          "text": [
            "Minimum Validation Loss: 0.0000\n"
          ]
        },
        {
          "data": {
            "image/png": "[encoded data removed]",
            "text/plain": [
              "<Figure size 432x288 with 1 Axes>"
            ]
          },
          "metadata": {
            "needs_background": "light"
          },
          "output_type": "display_data"
        }
      ],
      "source": [
        "history = model.fit(\n",
        "     X_train, y_train, validation_data=(X_val, y_val),\n",
        "     batch_size=512,\n",
        "     epochs=100,\n",
        "     callbacks=[early_stopping],\n",
        "     verbose=0)\n",
        "\n",
        "history_df = pd.DataFrame(history.history)\n",
        "history_df.loc[0:, ['loss', 'val_loss']].plot()\n",
        "print((\"Minimum Validation Loss: {:0.4f}\").format(history_df['val_loss'].min()))"
      ]
    },
    {
      "cell_type": "code",
      "execution_count": 11,
      "metadata": {
        "colab": {
          "base_uri": "https://localhost:8080/"
        },
        "id": "flpvctO3ceJe",
        "outputId": "df5f24e5-4857-427e-cec0-0bd5877ebe89"
      },
      "outputs": [
        {
          "name": "stdout",
          "output_type": "stream",
          "text": [
            "7/7 [==============================] - 0s 2ms/step\n"
          ]
        },
        {
          "data": {
            "text/plain": [
              "10.945454545454545"
            ]
          },
          "execution_count": 11,
          "metadata": {},
          "output_type": "execute_result"
        }
      ],
      "source": [
        "predictions=model.predict(X_test)\n",
        "predictions=np.round_(predictions,decimals=0)\n",
        "mean_absolute_error(y_test,predictions)"
      ]
    },
    {
      "cell_type": "code",
      "execution_count": 12,
      "metadata": {
        "id": "LDGtiSQ6chxP"
      },
      "outputs": [],
      "source": [
        "predictions=list(predictions)\n",
        "j=0\n",
        "for i in predictions:\n",
        "  i=int(i[0])\n",
        "  predictions[j]=i\n",
        "  if(i<0):\n",
        "    predictions[j]=0\n",
        "  elif(i>21):\n",
        "    predictions[j]=21\n",
        "  j=j+1"
      ]
    },
    {
      "cell_type": "code",
      "execution_count": 13,
      "metadata": {
        "id": "J900pGduz8vY"
      },
      "outputs": [],
      "source": [
        "#for i in predictions:\n",
        "#  print(i)"
      ]
    },
    {
      "cell_type": "code",
      "execution_count": 14,
      "metadata": {
        "id": "uqaCOvkl1kl-"
      },
      "outputs": [],
      "source": [
        "reverse_dict = {v: k for k, v in label_convertor.items()}\n",
        "#for i in reverse_dict:\n",
        "#  print(i,reverse_dict[i])"
      ]
    },
    {
      "cell_type": "code",
      "execution_count": 15,
      "metadata": {
        "colab": {
          "base_uri": "https://localhost:8080/"
        },
        "id": "eSWiTCqFcr7e",
        "outputId": "9251b934-eca2-45b6-a09d-ef05524d63a5"
      },
      "outputs": [
        {
          "name": "stdout",
          "output_type": "stream",
          "text": [
            "rice\n",
            "rice\n",
            "rice\n",
            "rice\n",
            "rice\n",
            "rice\n",
            "rice\n",
            "rice\n",
            "rice\n",
            "rice\n",
            "rice\n",
            "rice\n",
            "rice\n",
            "rice\n",
            "rice\n",
            "rice\n",
            "rice\n",
            "rice\n",
            "rice\n",
            "rice\n",
            "rice\n",
            "rice\n",
            "rice\n",
            "rice\n",
            "rice\n",
            "rice\n",
            "rice\n",
            "rice\n",
            "rice\n",
            "rice\n",
            "rice\n",
            "rice\n",
            "rice\n",
            "rice\n",
            "rice\n",
            "rice\n",
            "rice\n",
            "rice\n",
            "rice\n",
            "rice\n",
            "rice\n",
            "rice\n",
            "rice\n",
            "rice\n",
            "rice\n",
            "rice\n",
            "rice\n",
            "rice\n",
            "rice\n",
            "rice\n",
            "rice\n",
            "rice\n",
            "rice\n",
            "rice\n",
            "rice\n",
            "rice\n",
            "rice\n",
            "rice\n",
            "rice\n",
            "rice\n",
            "rice\n",
            "rice\n",
            "rice\n",
            "rice\n",
            "rice\n",
            "rice\n",
            "rice\n",
            "rice\n",
            "rice\n",
            "rice\n",
            "rice\n",
            "rice\n",
            "rice\n",
            "rice\n",
            "rice\n",
            "rice\n",
            "rice\n",
            "rice\n",
            "rice\n",
            "rice\n",
            "rice\n",
            "rice\n",
            "rice\n",
            "rice\n",
            "rice\n",
            "rice\n",
            "rice\n",
            "rice\n",
            "rice\n",
            "rice\n",
            "rice\n",
            "rice\n",
            "rice\n",
            "rice\n",
            "rice\n",
            "rice\n",
            "rice\n",
            "rice\n",
            "rice\n",
            "rice\n",
            "rice\n",
            "rice\n",
            "rice\n",
            "rice\n",
            "rice\n",
            "rice\n",
            "rice\n",
            "rice\n",
            "rice\n",
            "rice\n",
            "rice\n",
            "rice\n",
            "rice\n",
            "rice\n",
            "rice\n",
            "rice\n",
            "rice\n",
            "rice\n",
            "rice\n",
            "rice\n",
            "rice\n",
            "rice\n",
            "rice\n",
            "rice\n",
            "rice\n",
            "rice\n",
            "rice\n",
            "rice\n",
            "rice\n",
            "rice\n",
            "rice\n",
            "rice\n",
            "rice\n",
            "rice\n",
            "rice\n",
            "rice\n",
            "rice\n",
            "rice\n",
            "rice\n",
            "rice\n",
            "rice\n",
            "rice\n",
            "rice\n",
            "rice\n",
            "rice\n",
            "rice\n",
            "rice\n",
            "rice\n",
            "rice\n",
            "rice\n",
            "rice\n",
            "rice\n",
            "rice\n",
            "rice\n",
            "rice\n",
            "rice\n",
            "rice\n",
            "rice\n",
            "rice\n",
            "rice\n",
            "rice\n",
            "rice\n",
            "rice\n",
            "rice\n",
            "rice\n",
            "rice\n",
            "rice\n",
            "rice\n",
            "rice\n",
            "rice\n",
            "rice\n",
            "rice\n",
            "rice\n",
            "rice\n",
            "rice\n",
            "rice\n",
            "rice\n",
            "rice\n",
            "rice\n",
            "rice\n",
            "rice\n",
            "rice\n",
            "rice\n",
            "rice\n",
            "rice\n",
            "rice\n",
            "rice\n",
            "rice\n",
            "rice\n",
            "rice\n",
            "rice\n",
            "rice\n",
            "rice\n",
            "rice\n",
            "rice\n",
            "rice\n",
            "rice\n",
            "rice\n",
            "rice\n",
            "rice\n",
            "rice\n",
            "rice\n",
            "rice\n",
            "rice\n",
            "rice\n",
            "rice\n",
            "rice\n",
            "rice\n",
            "rice\n",
            "rice\n",
            "rice\n",
            "rice\n",
            "rice\n",
            "rice\n",
            "rice\n",
            "rice\n",
            "rice\n",
            "rice\n",
            "rice\n",
            "rice\n"
          ]
        }
      ],
      "source": [
        "labelled_predictions=[]\n",
        "for i in predictions:\n",
        "  labelled_predictions.append(reverse_dict[i])\n",
        "\n",
        "for i in labelled_predictions:\n",
        "  print(i)"
      ]
    },
    {
      "cell_type": "code",
      "execution_count": 16,
      "metadata": {
        "id": "_aFKXZpbc4tJ"
      },
      "outputs": [],
      "source": [
        "%matplotlib inline\n",
        "from sklearn.metrics import confusion_matrix\n",
        "import itertools\n",
        "import matplotlib.pyplot as plt"
      ]
    },
    {
      "cell_type": "code",
      "execution_count": 17,
      "metadata": {
        "id": "P1DlwQI_c9j0"
      },
      "outputs": [],
      "source": [
        "cm=confusion_matrix(y_true=y_test, y_pred=predictions)"
      ]
    },
    {
      "cell_type": "code",
      "execution_count": 18,
      "metadata": {
        "id": "FsmsH66ic-BU"
      },
      "outputs": [],
      "source": [
        "def plot_confusion_matrix(cm,classes,\n",
        "                          normalize=False,\n",
        "                          title='Confusion matrix',\n",
        "                          cmap=plt.cm.Blues):\n",
        "  plt.imshow(cm,interpolation='nearest',cmap=cmap)\n",
        "  plt.title(title)\n",
        "  plt.colorbar()\n",
        "  tick_marks=np.arange(len(classes))\n",
        "  plt.xticks(tick_marks,classes,rotation=45)\n",
        "  plt.yticks(tick_marks,classes)\n",
        "\n",
        "  if normalize:\n",
        "    cm=cm.astype('float')/cm.sum(axis=1)[ : ,np.newaxis]\n",
        "    print(\"Normalized confusion matrix\")\n",
        "\n",
        "  else:\n",
        "    print('Confusion matrix,without normalization')\n",
        "\n",
        "  print(cm)\n",
        "\n",
        "  thresh=cm.max()/2.\n",
        "  for i,j in itertools.product(range(cm.shape[0]),range(cm.shape[1])):\n",
        "    plt.text(j,i,cm[i,j],\n",
        "             horizontalalignment=\"center\",\n",
        "             color=\"white\" if cm[i,j]> thresh else \"black\")\n",
        "    \n",
        "  plt.tight_layout()\n",
        "  plt.ylabel('True label')\n",
        "  plt.xlabel('Predicted label')"
      ]
    },
    {
      "cell_type": "code",
      "execution_count": 19,
      "metadata": {
        "colab": {
          "base_uri": "https://localhost:8080/",
          "height": 710
        },
        "id": "BsRBD2zsdBuW",
        "outputId": "6b302f9f-4dda-4fb9-ee79-1f79b8b26611"
      },
      "outputs": [
        {
          "name": "stdout",
          "output_type": "stream",
          "text": [
            "Confusion matrix,without normalization\n",
            "[[13  0  0  0  0  0  0  0  0  0  0  0  0  0  0  0  0  0  0  0  0  0]\n",
            " [ 6  0  0  0  0  0  0  0  0  0  0  0  0  0  0  0  0  0  0  0  0  0]\n",
            " [ 6  0  0  0  0  0  0  0  0  0  0  0  0  0  0  0  0  0  0  0  0  0]\n",
            " [12  0  0  0  0  0  0  0  0  0  0  0  0  0  0  0  0  0  0  0  0  0]\n",
            " [ 6  0  0  0  0  0  0  0  0  0  0  0  0  0  0  0  0  0  0  0  0  0]\n",
            " [11  0  0  0  0  0  0  0  0  0  0  0  0  0  0  0  0  0  0  0  0  0]\n",
            " [ 7  0  0  0  0  0  0  0  0  0  0  0  0  0  0  0  0  0  0  0  0  0]\n",
            " [12  0  0  0  0  0  0  0  0  0  0  0  0  0  0  0  0  0  0  0  0  0]\n",
            " [12  0  0  0  0  0  0  0  0  0  0  0  0  0  0  0  0  0  0  0  0  0]\n",
            " [12  0  0  0  0  0  0  0  0  0  0  0  0  0  0  0  0  0  0  0  0  0]\n",
            " [12  0  0  0  0  0  0  0  0  0  0  0  0  0  0  0  0  0  0  0  0  0]\n",
            " [ 9  0  0  0  0  0  0  0  0  0  0  0  0  0  0  0  0  0  0  0  0  0]\n",
            " [16  0  0  0  0  0  0  0  0  0  0  0  0  0  0  0  0  0  0  0  0  0]\n",
            " [ 6  0  0  0  0  0  0  0  0  0  0  0  0  0  0  0  0  0  0  0  0  0]\n",
            " [ 4  0  0  0  0  0  0  0  0  0  0  0  0  0  0  0  0  0  0  0  0  0]\n",
            " [14  0  0  0  0  0  0  0  0  0  0  0  0  0  0  0  0  0  0  0  0  0]\n",
            " [12  0  0  0  0  0  0  0  0  0  0  0  0  0  0  0  0  0  0  0  0  0]\n",
            " [ 9  0  0  0  0  0  0  0  0  0  0  0  0  0  0  0  0  0  0  0  0  0]\n",
            " [ 6  0  0  0  0  0  0  0  0  0  0  0  0  0  0  0  0  0  0  0  0  0]\n",
            " [11  0  0  0  0  0  0  0  0  0  0  0  0  0  0  0  0  0  0  0  0  0]\n",
            " [13  0  0  0  0  0  0  0  0  0  0  0  0  0  0  0  0  0  0  0  0  0]\n",
            " [11  0  0  0  0  0  0  0  0  0  0  0  0  0  0  0  0  0  0  0  0  0]]\n"
          ]
        },
        {
          "data": {
            "image/png": "[encoded data removed]",
            "text/plain": [
              "<Figure size 432x288 with 2 Axes>"
            ]
          },
          "metadata": {
            "needs_background": "light"
          },
          "output_type": "display_data"
        }
      ],
      "source": [
        "cm_plot_labels = list(label_convertor.keys())\n",
        "plot_confusion_matrix(cm=cm, classes= cm_plot_labels ,title='Confusion Matrix')"
      ]
    },
    {
      "cell_type": "code",
      "execution_count": 20,
      "metadata": {
        "colab": {
          "base_uri": "https://localhost:8080/"
        },
        "id": "b8zPxw1q73JQ",
        "outputId": "d55962ad-1418-4ec3-df69-42658ed1bdd9"
      },
      "outputs": [
        {
          "name": "stderr",
          "output_type": "stream",
          "text": [
            "c:\\Users\\rithv\\AppData\\Local\\Programs\\Python\\Python39\\lib\\site-packages\\sklearn\\metrics\\_classification.py:1308: UndefinedMetricWarning: Precision and F-score are ill-defined and being set to 0.0 in labels with no predicted samples. Use `zero_division` parameter to control this behavior.\n",
            "  _warn_prf(average, modifier, msg_start, len(result))\n"
          ]
        },
        {
          "data": {
            "text/plain": [
              "(0.0034917355371900825, 0.05909090909090909, 0.006593835349200156, None)"
            ]
          },
          "execution_count": 20,
          "metadata": {},
          "output_type": "execute_result"
        }
      ],
      "source": [
        "from sklearn.metrics import precision_recall_fscore_support\n",
        "precision_recall_fscore_support(y_test, predictions, average='weighted')"
      ]
    },
    {
      "cell_type": "code",
      "execution_count": null,
      "metadata": {
        "id": "wwDdtpY78eYn"
      },
      "outputs": [],
      "source": []
    }
  ],
  "metadata": {
    "colab": {
      "provenance": []
    },
    "kernelspec": {
      "display_name": "Python 3",
      "language": "python",
      "name": "python3"
    },
    "language_info": {
      "codemirror_mode": {
        "name": "ipython",
        "version": 3
      },
      "file_extension": ".py",
      "mimetype": "text/x-python",
      "name": "python",
      "nbconvert_exporter": "python",
      "pygments_lexer": "ipython3",
      "version": "3.9.7"
    },
    "vscode": {
      "interpreter": {
        "hash": "6d9d5fe51df5cd71758353275f2a58be6e908648aa362d2d5e91c4eb35768cc3"
      }
    }
  },
  "nbformat": 4,
  "nbformat_minor": 0
}
